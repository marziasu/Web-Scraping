{
 "cells": [
  {
   "cell_type": "code",
   "execution_count": 2,
   "id": "e6fcd919",
   "metadata": {},
   "outputs": [
    {
     "name": "stdout",
     "output_type": "stream",
     "text": [
      "Collecting selenium\n",
      "  Downloading selenium-4.28.0-py3-none-any.whl (9.5 MB)\n",
      "Collecting typing_extensions~=4.9\n",
      "  Downloading typing_extensions-4.12.2-py3-none-any.whl (37 kB)\n",
      "Requirement already satisfied: certifi>=2021.10.8 in c:\\users\\marzia\\anaconda3\\lib\\site-packages (from selenium) (2021.10.8)\n",
      "Requirement already satisfied: urllib3[socks]<3,>=1.26 in c:\\users\\marzia\\anaconda3\\lib\\site-packages (from selenium) (1.26.9)\n",
      "Collecting trio-websocket~=0.9\n",
      "  Downloading trio_websocket-0.11.1-py3-none-any.whl (17 kB)\n",
      "Collecting trio~=0.17\n",
      "  Downloading trio-0.28.0-py3-none-any.whl (486 kB)\n",
      "Collecting websocket-client~=1.8\n",
      "  Downloading websocket_client-1.8.0-py3-none-any.whl (58 kB)\n",
      "Collecting attrs>=23.2.0\n",
      "  Downloading attrs-24.3.0-py3-none-any.whl (63 kB)\n",
      "Collecting exceptiongroup\n",
      "  Downloading exceptiongroup-1.2.2-py3-none-any.whl (16 kB)\n",
      "Requirement already satisfied: sortedcontainers in c:\\users\\marzia\\anaconda3\\lib\\site-packages (from trio~=0.17->selenium) (2.4.0)\n",
      "Requirement already satisfied: cffi>=1.14 in c:\\users\\marzia\\anaconda3\\lib\\site-packages (from trio~=0.17->selenium) (1.15.0)\n",
      "Collecting outcome\n",
      "  Downloading outcome-1.3.0.post0-py2.py3-none-any.whl (10 kB)\n",
      "Requirement already satisfied: idna in c:\\users\\marzia\\anaconda3\\lib\\site-packages (from trio~=0.17->selenium) (3.3)\n",
      "Collecting sniffio>=1.3.0\n",
      "  Downloading sniffio-1.3.1-py3-none-any.whl (10 kB)\n",
      "Requirement already satisfied: pycparser in c:\\users\\marzia\\anaconda3\\lib\\site-packages (from cffi>=1.14->trio~=0.17->selenium) (2.21)\n",
      "Collecting wsproto>=0.14\n",
      "  Downloading wsproto-1.2.0-py3-none-any.whl (24 kB)\n",
      "Requirement already satisfied: PySocks!=1.5.7,<2.0,>=1.5.6 in c:\\users\\marzia\\anaconda3\\lib\\site-packages (from urllib3[socks]<3,>=1.26->selenium) (1.7.1)\n",
      "Collecting h11<1,>=0.9.0\n",
      "  Downloading h11-0.14.0-py3-none-any.whl (58 kB)\n",
      "Installing collected packages: attrs, sniffio, outcome, h11, exceptiongroup, wsproto, trio, websocket-client, typing-extensions, trio-websocket, selenium\n",
      "  Attempting uninstall: attrs\n",
      "    Found existing installation: attrs 21.4.0\n",
      "    Uninstalling attrs-21.4.0:\n",
      "      Successfully uninstalled attrs-21.4.0\n",
      "  Attempting uninstall: sniffio\n",
      "    Found existing installation: sniffio 1.2.0\n",
      "    Uninstalling sniffio-1.2.0:\n",
      "      Successfully uninstalled sniffio-1.2.0\n",
      "  Attempting uninstall: websocket-client\n",
      "    Found existing installation: websocket-client 0.58.0\n",
      "    Uninstalling websocket-client-0.58.0:\n",
      "      Successfully uninstalled websocket-client-0.58.0\n",
      "  Attempting uninstall: typing-extensions\n",
      "    Found existing installation: typing-extensions 4.1.1\n",
      "    Uninstalling typing-extensions-4.1.1:\n",
      "      Successfully uninstalled typing-extensions-4.1.1\n",
      "Successfully installed attrs-24.3.0 exceptiongroup-1.2.2 h11-0.14.0 outcome-1.3.0.post0 selenium-4.28.0 sniffio-1.3.1 trio-0.28.0 trio-websocket-0.11.1 typing-extensions-4.12.2 websocket-client-1.8.0 wsproto-1.2.0\n"
     ]
    },
    {
     "name": "stderr",
     "output_type": "stream",
     "text": [
      "ERROR: pip's dependency resolver does not currently take into account all the packages that are installed. This behaviour is the source of the following dependency conflicts.\n",
      "jupyter-server 1.13.5 requires pywinpty<2; os_name == \"nt\", but you have pywinpty 2.0.2 which is incompatible.\n"
     ]
    }
   ],
   "source": [
    "!pip install selenium"
   ]
  },
  {
   "cell_type": "code",
   "execution_count": 3,
   "id": "01eeb008-e3f0-4d2e-8d67-99cd5daebcf7",
   "metadata": {},
   "outputs": [],
   "source": [
    "from selenium import webdriver\n",
    "from selenium.webdriver.chrome.service import Service\n",
    "from selenium.webdriver.common.by import By\n",
    "from bs4 import BeautifulSoup\n",
    "import pandas as pd\n",
    "import time\n",
    "from selenium.common.exceptions import NoSuchElementException\n"
   ]
  },
  {
   "cell_type": "code",
   "execution_count": 11,
   "id": "62dd1699-e3db-49ae-bbac-34e4bcf88e55",
   "metadata": {},
   "outputs": [],
   "source": [
    "s=Service('C:/Users/Marzia/Documents/web scrape/chromedriver-win64/chromedriver.exe')\n",
    "driver= webdriver.Chrome(service=s)\n",
    "driver.get(\"https://www.linkedin.com\")"
   ]
  },
  {
   "cell_type": "code",
   "execution_count": 12,
   "id": "90ab200a-7084-4788-a535-532ed9dc872d",
   "metadata": {},
   "outputs": [],
   "source": [
    "# url='https://www.linkedin.com/jobs/search/?currentJobId=3997194425&keywords=it%20job%20in%20bangladesh&origin=SWITCH_SEARCH_VERTICAL'\n",
    "#url='https://www.linkedin.com/jobs/search/?currentJobId=4010471189&geoId=106215326&keywords=software%20engineer&origin=JOB_SEARCH_PAGE_KEYWORD_AUTOCOMPLETE&refresh=true'\n",
    "url='https://www.linkedin.com/jobs/search/?currentJobId=4004243623&distance=25&geoId=106215326&keywords=Database&origin=JOB_SEARCH_PAGE_SEARCH_BUTTON&refresh=true'\n",
    "driver.get(url)"
   ]
  },
  {
   "cell_type": "code",
   "execution_count": 13,
   "id": "3b6c4315-bb2c-405e-887b-d05e291fc492",
   "metadata": {},
   "outputs": [],
   "source": [
    "df=pd.DataFrame()"
   ]
  },
  {
   "cell_type": "code",
   "execution_count": 14,
   "id": "7e95fabe-fd8a-4b15-a588-ba2dfc9d0fd8",
   "metadata": {},
   "outputs": [
    {
     "name": "stdout",
     "output_type": "stream",
     "text": [
      "links: 25\n",
      "df_shape: (25, 7)\n"
     ]
    }
   ],
   "source": [
    "for j in range(1,2):\n",
    "    page_number=driver.find_element(By.XPATH, f'//button[@aria-label=\"Page {j}\"]')\n",
    "    page_number.click()\n",
    "    # time.sleep(3)\n",
    "\n",
    "    job_title=[]\n",
    "    location=[]\n",
    "    work_environment=[]\n",
    "    experience_level=[]\n",
    "    work_time=[]\n",
    "    description=[]\n",
    "    company_name=[]\n",
    "    \n",
    "    job_block=driver.find_elements(By.XPATH,'//*[@id=\"main\"]/div/div[2]/div[1]/div//ul/li')\n",
    "    for job in job_block:\n",
    "        driver.execute_script(\"arguments[0].scrollIntoView();\",job)\n",
    "        time.sleep(1)\n",
    "    job_links=driver.find_elements(By.XPATH,'//*[@id=\"main\"]/div/div[2]/div[1]/div/ul/li/div/div/div[1]/div/div[2]/div[1]/a' )\n",
    "    print(\"links:\", len(job_links) )\n",
    "    for link in job_links:\n",
    "        link.click()\n",
    "        time.sleep(3)\n",
    "        title=driver.find_element(By.XPATH,  '//*[@id=\"main\"]/div/div[2]/div[2]/div/div[2]/div/div/div[1]/div/div[1]/div/div[1]/div/div[2]/div/h1').text\n",
    "        try:\n",
    "            loc=driver.find_element(By.XPATH,'//*[@id=\"main\"]/div/div[2]/div[2]/div/div[2]/div/div/div[1]/div/div[1]/div/div[1]/div/div[3]/div/span[1]').text\n",
    "        except NoSuchElementException:\n",
    "            loc=driver.find_element(By.XPATH,    '//*[@id=\"main\"]/div/div[2]/div[2]/div/div[2]/div/div/div[1]/div/div[1]/div/div[1]/div/div[3]/div/span[1]/span[2]').text\n",
    "        try:\n",
    "            workEnv=driver.find_element(By.XPATH,'//*[@id=\"main\"]/div/div[2]/div[2]/div/div[2]/div/div/div[1]/div/div[1]/div/div[1]/div/button/div[1]/span').text\n",
    "        except NoSuchElementException:           \n",
    "            workEnv='null'\n",
    "        try:\n",
    "            workTime=driver.find_element(By.XPATH,'//*[@id=\"main\"]/div/div[2]/div[2]/div/div[2]/div/div/div[1]/div/div[1]/div/div[1]/div/button/div[2]/span').text\n",
    "        except NoSuchElementException:\n",
    "            workTime='null'\n",
    "        try:\n",
    "            expLevel=driver.find_element(By.XPATH,'//*[@id=\"main\"]/div/div[2]/div[2]/div/div[2]/div/div/div[1]/div/div[1]/div/div[1]/div/div[4]/ul/li[1]/span/span[3]').text\n",
    "            print(expLevel)\n",
    "        except NoSuchElementException:\n",
    "            expLevel='null'\n",
    "        try:\n",
    "            comp=driver.find_element(By.XPATH, '//*[@id=\"main\"]/div/div[2]/div[2]/div/div[2]/div/div/div[1]/div/div[1]/div/div[1]/div/div[1]/div[1]/div/a').text\n",
    "        except NoSuchElementException:\n",
    "            comp=driver.find_element(By.XPATH, '//*[@id=\"ember267\"]').text    \n",
    "        des=driver.find_element(By.XPATH, '//*[@id=\"job-details\"]/div/p' ).text \n",
    "        \n",
    "        #print(comp)\n",
    "        \n",
    "        job_title.append(title)\n",
    "        location.append(loc)\n",
    "        work_environment.append(workEnv)\n",
    "        work_time.append(workTime)\n",
    "        experience_level.append(expLevel)\n",
    "        description.append(des)\n",
    "        company_name.append(comp)\n",
    "        \n",
    "    # create dataframe\n",
    "    df1=pd.DataFrame({\n",
    "        'Job_title':job_title,\n",
    "        'Location':location,\n",
    "        'Work_environment':work_environment,\n",
    "        'Work_time':work_time,\n",
    "        'Experience_level':experience_level,\n",
    "        'Description':description,\n",
    "        'Company_name':company_name\n",
    "    })\n",
    "    df=pd.concat([df,df1])\n",
    "    print(\"df_shape:\",df.shape)\n",
    "    time.sleep(4)\n",
    "\n",
    "    "
   ]
  },
  {
   "cell_type": "code",
   "execution_count": 78,
   "id": "4b6f3d33-3787-4740-a650-b4a35e8f693a",
   "metadata": {},
   "outputs": [],
   "source": [
    "df.to_csv(\"job-post_data3.csv\", index=False)"
   ]
  },
  {
   "cell_type": "code",
   "execution_count": 77,
   "id": "c8efc682-5128-4bf6-b410-d2747ef3bfb1",
   "metadata": {},
   "outputs": [
    {
     "data": {
      "text/plain": [
       "(744, 7)"
      ]
     },
     "execution_count": 77,
     "metadata": {},
     "output_type": "execute_result"
    }
   ],
   "source": [
    "df.shape\n"
   ]
  },
  {
   "cell_type": "code",
   "execution_count": 39,
   "id": "f36eccdf-87c9-4118-b035-a0db2dbef0a2",
   "metadata": {},
   "outputs": [
    {
     "data": {
      "text/html": [
       "<div>\n",
       "<style scoped>\n",
       "    .dataframe tbody tr th:only-of-type {\n",
       "        vertical-align: middle;\n",
       "    }\n",
       "\n",
       "    .dataframe tbody tr th {\n",
       "        vertical-align: top;\n",
       "    }\n",
       "\n",
       "    .dataframe thead th {\n",
       "        text-align: right;\n",
       "    }\n",
       "</style>\n",
       "<table border=\"1\" class=\"dataframe\">\n",
       "  <thead>\n",
       "    <tr style=\"text-align: right;\">\n",
       "      <th></th>\n",
       "      <th>Job_title</th>\n",
       "      <th>Location</th>\n",
       "      <th>Work_environment</th>\n",
       "      <th>Work_time</th>\n",
       "      <th>Experience_level</th>\n",
       "      <th>Description</th>\n",
       "      <th>Company_name</th>\n",
       "    </tr>\n",
       "  </thead>\n",
       "  <tbody>\n",
       "    <tr>\n",
       "      <th>6</th>\n",
       "      <td>Python Data Scientist - LLM Project</td>\n",
       "      <td>Bangladesh</td>\n",
       "      <td>$10/hr - $24/hr</td>\n",
       "      <td>Remote</td>\n",
       "      <td>Contract</td>\n",
       "      <td>Python Data Scientist/Analyst\\n\\nExperience: 2...</td>\n",
       "      <td>YO HR Consultancy</td>\n",
       "    </tr>\n",
       "    <tr>\n",
       "      <th>6</th>\n",
       "      <td>Python Data Scientist - LLM Project</td>\n",
       "      <td>Bangladesh</td>\n",
       "      <td>$10/hr - $22/hr</td>\n",
       "      <td>Remote</td>\n",
       "      <td>Contract</td>\n",
       "      <td>Python Data Scientist/Analyst\\n\\nExperience: 2...</td>\n",
       "      <td>YO HR Consultancy</td>\n",
       "    </tr>\n",
       "    <tr>\n",
       "      <th>10</th>\n",
       "      <td>Python Data Scientist - LLM Project</td>\n",
       "      <td>Bangladesh</td>\n",
       "      <td>$10/hr - $24/hr</td>\n",
       "      <td>Remote</td>\n",
       "      <td>Contract</td>\n",
       "      <td>Python Data Scientist/Analyst\\n\\nExperience: 2...</td>\n",
       "      <td>YO HR Consultancy</td>\n",
       "    </tr>\n",
       "    <tr>\n",
       "      <th>20</th>\n",
       "      <td>Python Data Scientist - LLM Project</td>\n",
       "      <td>Bangladesh</td>\n",
       "      <td>$10/hr - $22/hr</td>\n",
       "      <td>Remote</td>\n",
       "      <td>Contract</td>\n",
       "      <td>Python Data Scientist/Analyst\\n\\nExperience: 2...</td>\n",
       "      <td>YO HR Consultancy</td>\n",
       "    </tr>\n",
       "  </tbody>\n",
       "</table>\n",
       "</div>"
      ],
      "text/plain": [
       "                              Job_title    Location Work_environment  \\\n",
       "6   Python Data Scientist - LLM Project  Bangladesh  $10/hr - $24/hr   \n",
       "6   Python Data Scientist - LLM Project  Bangladesh  $10/hr - $22/hr   \n",
       "10  Python Data Scientist - LLM Project  Bangladesh  $10/hr - $24/hr   \n",
       "20  Python Data Scientist - LLM Project  Bangladesh  $10/hr - $22/hr   \n",
       "\n",
       "   Work_time Experience_level  \\\n",
       "6     Remote         Contract   \n",
       "6     Remote         Contract   \n",
       "10    Remote         Contract   \n",
       "20    Remote         Contract   \n",
       "\n",
       "                                          Description       Company_name  \n",
       "6   Python Data Scientist/Analyst\\n\\nExperience: 2...  YO HR Consultancy  \n",
       "6   Python Data Scientist/Analyst\\n\\nExperience: 2...  YO HR Consultancy  \n",
       "10  Python Data Scientist/Analyst\\n\\nExperience: 2...  YO HR Consultancy  \n",
       "20  Python Data Scientist/Analyst\\n\\nExperience: 2...  YO HR Consultancy  "
      ]
     },
     "execution_count": 39,
     "metadata": {},
     "output_type": "execute_result"
    }
   ],
   "source": [
    "df[df['Job_title']=='Python Data Scientist - LLM Project']"
   ]
  },
  {
   "cell_type": "code",
   "execution_count": null,
   "id": "d4ba8301-af76-4c15-9432-eb30f3e0f769",
   "metadata": {},
   "outputs": [],
   "source": []
  }
 ],
 "metadata": {
  "kernelspec": {
   "display_name": "Python 3 (ipykernel)",
   "language": "python",
   "name": "python3"
  },
  "language_info": {
   "codemirror_mode": {
    "name": "ipython",
    "version": 3
   },
   "file_extension": ".py",
   "mimetype": "text/x-python",
   "name": "python",
   "nbconvert_exporter": "python",
   "pygments_lexer": "ipython3",
   "version": "3.9.12"
  }
 },
 "nbformat": 4,
 "nbformat_minor": 5
}
